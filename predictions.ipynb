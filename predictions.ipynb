{
 "cells": [
  {
   "cell_type": "code",
   "execution_count": 13,
   "metadata": {},
   "outputs": [
    {
     "name": "stderr",
     "output_type": "stream",
     "text": [
      "/var/folders/jh/7wm9ksm12d5cm5v95w2kwj740000gn/T/ipykernel_10044/1419438712.py:53: DeprecationWarning: DataFrameGroupBy.apply operated on the grouping columns. This behavior is deprecated, and in a future version of pandas the grouping columns will be excluded from the operation. Either pass `include_groups=False` to exclude the groupings or explicitly select the grouping columns after groupby to silence this warning.\n",
      "  matches_rolling = matches.groupby(\"team\").apply(lambda x: rolling_averages(x, cols, new_cols))\n"
     ]
    },
    {
     "data": {
      "text/plain": [
       "0.5158371040723982"
      ]
     },
     "execution_count": 13,
     "metadata": {},
     "output_type": "execute_result"
    }
   ],
   "source": [
    "import pandas as pd\n",
    "from sklearn.metrics import accuracy_score \n",
    "from sklearn.metrics import precision_score\n",
    "from sklearn.ensemble import RandomForestClassifier #Random Forest is a series of decision trees but each decision tree has different parameters\n",
    "\n",
    "matches = pd.read_csv('matches.csv', index_col = 0)\n",
    "matches.head()\n",
    "matches.shape\n",
    "\n",
    "#Investigate missing data\n",
    "matches['team'].value_counts()\n",
    "matches[matches['team'] == 'Liverpool']\n",
    "matches['round'].value_counts()\n",
    "\n",
    "#Cleaning data for Machine Learning\n",
    "matches.dtypes #ML only can work with numeric data \n",
    "matches[\"date\"] = pd.to_datetime(matches[\"date\"])\n",
    "matches[\"target\"] = (matches[\"result\"] == \"W\").astype(\"int\")\n",
    "matches[\"venue_code\"] = matches[\"venue\"].astype(\"category\").cat.codes\n",
    "matches[\"opp_code\"] = matches[\"opponent\"].astype(\"category\").cat.codes\n",
    "matches[\"hour\"] = matches[\"time\"].str.replace(\":.+\", \"\", regex=True).astype(\"int\")\n",
    "matches[\"day_code\"] = matches[\"date\"].dt.dayofweek\n",
    "matches\n",
    "\n",
    "#Creating initial Machine Learning model\n",
    "rf = RandomForestClassifier(n_estimators=50, min_samples_split=10, random_state=1) #more n estimators takes longer to run but perhaps more accurate, larger min_samples split less likely to overfit\n",
    "#but less accurate, random state setsthe seed for the random number generator, ensuring reproducibility of results.\n",
    "train = matches[matches[\"date\"] < '2023-01-01'] #train data\n",
    "test = matches[matches[\"date\"] > '2023-01-01'] #test data\n",
    "predictors = [\"venue_code\", \"opp_code\", \"hour\", \"day_code\"] \n",
    "rf.fit(train[predictors], train[\"target\"]) #first param is the features the model will use to make predictions and the second param is what we are predicting\n",
    "preds = rf.predict(test[predictors]) #Uses the trained Random Forest model (rf) to make predictions for the test data (test).\n",
    "\n",
    "error = accuracy_score(test[\"target\"], preds) #Computes the accuracy of the predictions made by the model.\n",
    "combined = pd.DataFrame(dict(actual=test[\"target\"], predicted=preds)) #Creates a DataFrame that combines the actual labels and predicted labels for easier comparison.\n",
    "pd.crosstab(index=combined[\"actual\"], columns=combined[\"predicted\"]) #create two way table w crosstab\n",
    "\n",
    "precision_score(test[\"target\"], preds) #It measures how many of the predicted positive labels are actually correct.\n",
    "\n",
    "#Improving precision with rolling averages\n",
    "grouped_matches = matches.groupby(\"team\") \n",
    "\n",
    "def rolling_averages(group, cols, new_cols):\n",
    "    group = group.sort_values(\"date\")\n",
    "    rolling_stats = group[cols].rolling(3, closed='left').mean() #closed=left ensures rolling window does not include the current match (only the previous 3 matches are considered)\n",
    "    group[new_cols] = rolling_stats\n",
    "    group = group.dropna(subset=new_cols) #drop any missing values like first 2 GW\n",
    "    return group\n",
    "cols = [\"gf\", \"ga\", \"sh\", \"sot\", \"dist\", \"fk\", \"pk\", \"pkatt\"]\n",
    "new_cols = [f\"{c}_rolling\" for c in cols]\n",
    "\n",
    "\n",
    "matches_rolling = matches.groupby(\"team\").apply(lambda x: rolling_averages(x, cols, new_cols))\n",
    "matches_rolling = matches_rolling.droplevel('team')\n",
    "matches_rolling.index = range(matches_rolling.shape[0])\n",
    "\n",
    "#Retraining machine model \n",
    "def make_predictions(data, predictors):\n",
    "    train = data[data[\"date\"] < '2023-01-01']\n",
    "    test = data[data[\"date\"] > '2023-01-01']\n",
    "    rf.fit(train[predictors], train[\"target\"])\n",
    "    preds = rf.predict(test[predictors])\n",
    "    combined = pd.DataFrame(dict(actual=test[\"target\"], predicted=preds), index=test.index)\n",
    "    precision = precision_score(test[\"target\"], preds)\n",
    "    return combined, precision \n",
    "\n",
    "combined, precision = make_predictions(matches_rolling, predictors + new_cols)\n",
    "\n",
    "\n",
    "combined = combined.merge(matches_rolling[[\"date\", \"team\", \"opponent\", \"result\"]], left_index=True, right_index=True) #left_index and right_index = true merges base off same index\n",
    "\n",
    "\n",
    "\n"
   ]
  }
 ],
 "metadata": {
  "kernelspec": {
   "display_name": "venv",
   "language": "python",
   "name": "python3"
  },
  "language_info": {
   "codemirror_mode": {
    "name": "ipython",
    "version": 3
   },
   "file_extension": ".py",
   "mimetype": "text/x-python",
   "name": "python",
   "nbconvert_exporter": "python",
   "pygments_lexer": "ipython3",
   "version": "3.12.5"
  }
 },
 "nbformat": 4,
 "nbformat_minor": 2
}
