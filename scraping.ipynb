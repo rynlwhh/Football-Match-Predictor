{
 "cells": [
  {
   "cell_type": "code",
   "execution_count": 20,
   "metadata": {},
   "outputs": [
    {
     "name": "stderr",
     "output_type": "stream",
     "text": [
      "/var/folders/jh/7wm9ksm12d5cm5v95w2kwj740000gn/T/ipykernel_87140/3620367851.py:23: FutureWarning: Passing literal html to 'read_html' is deprecated and will be removed in a future version. To read from a literal string, wrap it in a 'StringIO' object.\n",
      "  matches = pd.read_html(data.text, match = \"Scores & Fixtures\")[0] #read html with read_html and find the all table tags then find a table with Scores and Fixtures string with match =\n"
     ]
    },
    {
     "name": "stdout",
     "output_type": "stream",
     "text": [
      "(52, 20)\n",
      "(28, 26)\n"
     ]
    },
    {
     "name": "stderr",
     "output_type": "stream",
     "text": [
      "/var/folders/jh/7wm9ksm12d5cm5v95w2kwj740000gn/T/ipykernel_87140/3620367851.py:32: FutureWarning: Passing literal html to 'read_html' is deprecated and will be removed in a future version. To read from a literal string, wrap it in a 'StringIO' object.\n",
      "  shooting = pd.read_html(data.text, match = 'Shooting')[0] #find shooting string in html\n"
     ]
    }
   ],
   "source": [
    "import requests\n",
    "# Scraping first page with requests\n",
    "\n",
    "standings_url = 'https://fbref.com/en/comps/9/Premier-League-Stats'\n",
    "data = requests.get(standings_url)\n",
    "\n",
    "# Parsing html links with Beautiful soup\n",
    "\n",
    "from bs4 import BeautifulSoup #to parse html\n",
    "soup = BeautifulSoup(data.text)\n",
    "standings_table = soup.select('table.stats_table')[0] #select from bs4 module gives css flexibility to select any elements or classes or ids\n",
    "links = standings_table.find_all('a') #find_all finds tags\n",
    "links = [l.get('href') for l in links] #get the href for every link with tag a \n",
    "links = [l for l in links if '/squads/' in l] #filter links for links only with squads in the link\n",
    "team_urls = [f\"https://fbref.com{l}\" for l in links] #make links into urls by adding the domain with format string\n",
    "\n",
    "#Extract match stats using pandas and requests\n",
    "\n",
    "team_url = team_urls[0]\n",
    "data = requests.get(team_url) \n",
    "import pandas as pd\n",
    "\n",
    "matches = pd.read_html(data.text, match = \"Scores & Fixtures\")[0] #read html with read_html and find the all table tags then find a table with Scores and Fixtures string with match =\n",
    "matches.head()\n",
    "\n",
    "#Get match shooting stats with pandas and requests\n",
    "soup = BeautifulSoup(data.text)\n",
    "links = soup.find_all('a')\n",
    "links = [l.get('href') for l in links]\n",
    "links = [l for l in links if l and 'all_comps/shooting/' in l] #Look for links with all_comps/shooting/\n",
    "data = requests.get(f'https://fbref.com{links[0]}') #get the html for the shooting stats page with requests.get and format it to make links into full url\n",
    "shooting = pd.read_html(data.text, match = 'Shooting')[0] #find shooting string in html\n",
    "\n",
    "#Cleaning and merging scraped data with Pandas\n",
    "shooting.head()\n",
    "shooting.columns  = shooting.columns.droplevel() #Drop the top column as we do not need multi-level indexing\n",
    "shooting.head()\n",
    "team_data = matches.merge(shooting[['Date', 'Sh', 'SoT', 'Dist', 'FK', 'PK', 'PKatt']], on = 'Date') #Merge matches data frame with shooting data frame with those specific columns and merge on Date\n",
    "team_data.head()\n",
    "\n",
    "print(matches.shape)\n",
    "print(shooting.shape)\n",
    "\n",
    "\n",
    "\n"
   ]
  }
 ],
 "metadata": {
  "kernelspec": {
   "display_name": "venv",
   "language": "python",
   "name": "python3"
  },
  "language_info": {
   "codemirror_mode": {
    "name": "ipython",
    "version": 3
   },
   "file_extension": ".py",
   "mimetype": "text/x-python",
   "name": "python",
   "nbconvert_exporter": "python",
   "pygments_lexer": "ipython3",
   "version": "3.12.5"
  }
 },
 "nbformat": 4,
 "nbformat_minor": 2
}
