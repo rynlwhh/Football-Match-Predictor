{
 "cells": [
  {
   "cell_type": "code",
   "execution_count": 3,
   "metadata": {},
   "outputs": [],
   "source": [
    "import pandas as pd\n",
    "match_df = pd.concat(all_matches) #Merge all data frames into a single data frame\n",
    "match_df.columns = [c.lower() for c in match_df.columns] #make column names lowercase\n",
    "match_df.to_csv('matches.csv')"
   ]
  },
  {
   "cell_type": "code",
   "execution_count": 1,
   "metadata": {},
   "outputs": [
    {
     "name": "stdout",
     "output_type": "stream",
     "text": [
      "Requesting URL: https://fbref.com/en/comps/9/Premier-League-Stats\n",
      "Status Code: 200\n",
      "  -> Fetching data for Liverpool...\n"
     ]
    },
    {
     "name": "stderr",
     "output_type": "stream",
     "text": [
      "/var/folders/jh/7wm9ksm12d5cm5v95w2kwj740000gn/T/ipykernel_6732/4238175119.py:86: FutureWarning: Passing literal html to 'read_html' is deprecated and will be removed in a future version. To read from a literal string, wrap it in a 'StringIO' object.\n",
      "  matches = pd.read_html(data_response.text, match=\"Scores & Fixtures\")[0]\n",
      "/var/folders/jh/7wm9ksm12d5cm5v95w2kwj740000gn/T/ipykernel_6732/4238175119.py:104: FutureWarning: Passing literal html to 'read_html' is deprecated and will be removed in a future version. To read from a literal string, wrap it in a 'StringIO' object.\n",
      "  shooting = pd.read_html(shooting_response.text, match=\"Shooting\")[0]\n"
     ]
    },
    {
     "name": "stdout",
     "output_type": "stream",
     "text": [
      "  -> Fetching data for Arsenal...\n"
     ]
    },
    {
     "name": "stderr",
     "output_type": "stream",
     "text": [
      "/var/folders/jh/7wm9ksm12d5cm5v95w2kwj740000gn/T/ipykernel_6732/4238175119.py:86: FutureWarning: Passing literal html to 'read_html' is deprecated and will be removed in a future version. To read from a literal string, wrap it in a 'StringIO' object.\n",
      "  matches = pd.read_html(data_response.text, match=\"Scores & Fixtures\")[0]\n",
      "/var/folders/jh/7wm9ksm12d5cm5v95w2kwj740000gn/T/ipykernel_6732/4238175119.py:104: FutureWarning: Passing literal html to 'read_html' is deprecated and will be removed in a future version. To read from a literal string, wrap it in a 'StringIO' object.\n",
      "  shooting = pd.read_html(shooting_response.text, match=\"Shooting\")[0]\n"
     ]
    },
    {
     "name": "stdout",
     "output_type": "stream",
     "text": [
      "  -> Fetching data for Nottingham-Forest...\n"
     ]
    },
    {
     "name": "stderr",
     "output_type": "stream",
     "text": [
      "/var/folders/jh/7wm9ksm12d5cm5v95w2kwj740000gn/T/ipykernel_6732/4238175119.py:86: FutureWarning: Passing literal html to 'read_html' is deprecated and will be removed in a future version. To read from a literal string, wrap it in a 'StringIO' object.\n",
      "  matches = pd.read_html(data_response.text, match=\"Scores & Fixtures\")[0]\n",
      "/var/folders/jh/7wm9ksm12d5cm5v95w2kwj740000gn/T/ipykernel_6732/4238175119.py:104: FutureWarning: Passing literal html to 'read_html' is deprecated and will be removed in a future version. To read from a literal string, wrap it in a 'StringIO' object.\n",
      "  shooting = pd.read_html(shooting_response.text, match=\"Shooting\")[0]\n"
     ]
    },
    {
     "name": "stdout",
     "output_type": "stream",
     "text": [
      "  -> Fetching data for Chelsea...\n"
     ]
    },
    {
     "name": "stderr",
     "output_type": "stream",
     "text": [
      "/var/folders/jh/7wm9ksm12d5cm5v95w2kwj740000gn/T/ipykernel_6732/4238175119.py:86: FutureWarning: Passing literal html to 'read_html' is deprecated and will be removed in a future version. To read from a literal string, wrap it in a 'StringIO' object.\n",
      "  matches = pd.read_html(data_response.text, match=\"Scores & Fixtures\")[0]\n",
      "/var/folders/jh/7wm9ksm12d5cm5v95w2kwj740000gn/T/ipykernel_6732/4238175119.py:104: FutureWarning: Passing literal html to 'read_html' is deprecated and will be removed in a future version. To read from a literal string, wrap it in a 'StringIO' object.\n",
      "  shooting = pd.read_html(shooting_response.text, match=\"Shooting\")[0]\n"
     ]
    },
    {
     "name": "stdout",
     "output_type": "stream",
     "text": [
      "  -> Fetching data for Newcastle-United...\n"
     ]
    },
    {
     "name": "stderr",
     "output_type": "stream",
     "text": [
      "/var/folders/jh/7wm9ksm12d5cm5v95w2kwj740000gn/T/ipykernel_6732/4238175119.py:86: FutureWarning: Passing literal html to 'read_html' is deprecated and will be removed in a future version. To read from a literal string, wrap it in a 'StringIO' object.\n",
      "  matches = pd.read_html(data_response.text, match=\"Scores & Fixtures\")[0]\n",
      "/var/folders/jh/7wm9ksm12d5cm5v95w2kwj740000gn/T/ipykernel_6732/4238175119.py:104: FutureWarning: Passing literal html to 'read_html' is deprecated and will be removed in a future version. To read from a literal string, wrap it in a 'StringIO' object.\n",
      "  shooting = pd.read_html(shooting_response.text, match=\"Shooting\")[0]\n"
     ]
    },
    {
     "name": "stdout",
     "output_type": "stream",
     "text": [
      "  -> Fetching data for Manchester-City...\n"
     ]
    },
    {
     "name": "stderr",
     "output_type": "stream",
     "text": [
      "/var/folders/jh/7wm9ksm12d5cm5v95w2kwj740000gn/T/ipykernel_6732/4238175119.py:86: FutureWarning: Passing literal html to 'read_html' is deprecated and will be removed in a future version. To read from a literal string, wrap it in a 'StringIO' object.\n",
      "  matches = pd.read_html(data_response.text, match=\"Scores & Fixtures\")[0]\n",
      "/var/folders/jh/7wm9ksm12d5cm5v95w2kwj740000gn/T/ipykernel_6732/4238175119.py:104: FutureWarning: Passing literal html to 'read_html' is deprecated and will be removed in a future version. To read from a literal string, wrap it in a 'StringIO' object.\n",
      "  shooting = pd.read_html(shooting_response.text, match=\"Shooting\")[0]\n"
     ]
    },
    {
     "name": "stdout",
     "output_type": "stream",
     "text": [
      "  -> Fetching data for Bournemouth...\n"
     ]
    },
    {
     "name": "stderr",
     "output_type": "stream",
     "text": [
      "/var/folders/jh/7wm9ksm12d5cm5v95w2kwj740000gn/T/ipykernel_6732/4238175119.py:86: FutureWarning: Passing literal html to 'read_html' is deprecated and will be removed in a future version. To read from a literal string, wrap it in a 'StringIO' object.\n",
      "  matches = pd.read_html(data_response.text, match=\"Scores & Fixtures\")[0]\n",
      "/var/folders/jh/7wm9ksm12d5cm5v95w2kwj740000gn/T/ipykernel_6732/4238175119.py:104: FutureWarning: Passing literal html to 'read_html' is deprecated and will be removed in a future version. To read from a literal string, wrap it in a 'StringIO' object.\n",
      "  shooting = pd.read_html(shooting_response.text, match=\"Shooting\")[0]\n"
     ]
    },
    {
     "name": "stdout",
     "output_type": "stream",
     "text": [
      "  -> Fetching data for Aston-Villa...\n"
     ]
    },
    {
     "name": "stderr",
     "output_type": "stream",
     "text": [
      "/var/folders/jh/7wm9ksm12d5cm5v95w2kwj740000gn/T/ipykernel_6732/4238175119.py:86: FutureWarning: Passing literal html to 'read_html' is deprecated and will be removed in a future version. To read from a literal string, wrap it in a 'StringIO' object.\n",
      "  matches = pd.read_html(data_response.text, match=\"Scores & Fixtures\")[0]\n",
      "/var/folders/jh/7wm9ksm12d5cm5v95w2kwj740000gn/T/ipykernel_6732/4238175119.py:104: FutureWarning: Passing literal html to 'read_html' is deprecated and will be removed in a future version. To read from a literal string, wrap it in a 'StringIO' object.\n",
      "  shooting = pd.read_html(shooting_response.text, match=\"Shooting\")[0]\n"
     ]
    },
    {
     "name": "stdout",
     "output_type": "stream",
     "text": [
      "  -> Fetching data for Fulham...\n"
     ]
    },
    {
     "name": "stderr",
     "output_type": "stream",
     "text": [
      "/var/folders/jh/7wm9ksm12d5cm5v95w2kwj740000gn/T/ipykernel_6732/4238175119.py:86: FutureWarning: Passing literal html to 'read_html' is deprecated and will be removed in a future version. To read from a literal string, wrap it in a 'StringIO' object.\n",
      "  matches = pd.read_html(data_response.text, match=\"Scores & Fixtures\")[0]\n",
      "/var/folders/jh/7wm9ksm12d5cm5v95w2kwj740000gn/T/ipykernel_6732/4238175119.py:104: FutureWarning: Passing literal html to 'read_html' is deprecated and will be removed in a future version. To read from a literal string, wrap it in a 'StringIO' object.\n",
      "  shooting = pd.read_html(shooting_response.text, match=\"Shooting\")[0]\n"
     ]
    },
    {
     "name": "stdout",
     "output_type": "stream",
     "text": [
      "  -> Fetching data for Brighton-and-Hove-Albion...\n"
     ]
    },
    {
     "name": "stderr",
     "output_type": "stream",
     "text": [
      "/var/folders/jh/7wm9ksm12d5cm5v95w2kwj740000gn/T/ipykernel_6732/4238175119.py:86: FutureWarning: Passing literal html to 'read_html' is deprecated and will be removed in a future version. To read from a literal string, wrap it in a 'StringIO' object.\n",
      "  matches = pd.read_html(data_response.text, match=\"Scores & Fixtures\")[0]\n",
      "/var/folders/jh/7wm9ksm12d5cm5v95w2kwj740000gn/T/ipykernel_6732/4238175119.py:104: FutureWarning: Passing literal html to 'read_html' is deprecated and will be removed in a future version. To read from a literal string, wrap it in a 'StringIO' object.\n",
      "  shooting = pd.read_html(shooting_response.text, match=\"Shooting\")[0]\n"
     ]
    },
    {
     "name": "stdout",
     "output_type": "stream",
     "text": [
      "  -> Fetching data for Brentford...\n"
     ]
    },
    {
     "name": "stderr",
     "output_type": "stream",
     "text": [
      "/var/folders/jh/7wm9ksm12d5cm5v95w2kwj740000gn/T/ipykernel_6732/4238175119.py:86: FutureWarning: Passing literal html to 'read_html' is deprecated and will be removed in a future version. To read from a literal string, wrap it in a 'StringIO' object.\n",
      "  matches = pd.read_html(data_response.text, match=\"Scores & Fixtures\")[0]\n",
      "/var/folders/jh/7wm9ksm12d5cm5v95w2kwj740000gn/T/ipykernel_6732/4238175119.py:104: FutureWarning: Passing literal html to 'read_html' is deprecated and will be removed in a future version. To read from a literal string, wrap it in a 'StringIO' object.\n",
      "  shooting = pd.read_html(shooting_response.text, match=\"Shooting\")[0]\n"
     ]
    },
    {
     "name": "stdout",
     "output_type": "stream",
     "text": [
      "  -> Fetching data for Tottenham-Hotspur...\n"
     ]
    },
    {
     "name": "stderr",
     "output_type": "stream",
     "text": [
      "/var/folders/jh/7wm9ksm12d5cm5v95w2kwj740000gn/T/ipykernel_6732/4238175119.py:86: FutureWarning: Passing literal html to 'read_html' is deprecated and will be removed in a future version. To read from a literal string, wrap it in a 'StringIO' object.\n",
      "  matches = pd.read_html(data_response.text, match=\"Scores & Fixtures\")[0]\n",
      "/var/folders/jh/7wm9ksm12d5cm5v95w2kwj740000gn/T/ipykernel_6732/4238175119.py:104: FutureWarning: Passing literal html to 'read_html' is deprecated and will be removed in a future version. To read from a literal string, wrap it in a 'StringIO' object.\n",
      "  shooting = pd.read_html(shooting_response.text, match=\"Shooting\")[0]\n"
     ]
    },
    {
     "name": "stdout",
     "output_type": "stream",
     "text": [
      "  -> Fetching data for West-Ham-United...\n"
     ]
    },
    {
     "name": "stderr",
     "output_type": "stream",
     "text": [
      "/var/folders/jh/7wm9ksm12d5cm5v95w2kwj740000gn/T/ipykernel_6732/4238175119.py:86: FutureWarning: Passing literal html to 'read_html' is deprecated and will be removed in a future version. To read from a literal string, wrap it in a 'StringIO' object.\n",
      "  matches = pd.read_html(data_response.text, match=\"Scores & Fixtures\")[0]\n",
      "/var/folders/jh/7wm9ksm12d5cm5v95w2kwj740000gn/T/ipykernel_6732/4238175119.py:104: FutureWarning: Passing literal html to 'read_html' is deprecated and will be removed in a future version. To read from a literal string, wrap it in a 'StringIO' object.\n",
      "  shooting = pd.read_html(shooting_response.text, match=\"Shooting\")[0]\n"
     ]
    },
    {
     "name": "stdout",
     "output_type": "stream",
     "text": [
      "  -> Fetching data for Manchester-United...\n"
     ]
    },
    {
     "name": "stderr",
     "output_type": "stream",
     "text": [
      "/var/folders/jh/7wm9ksm12d5cm5v95w2kwj740000gn/T/ipykernel_6732/4238175119.py:86: FutureWarning: Passing literal html to 'read_html' is deprecated and will be removed in a future version. To read from a literal string, wrap it in a 'StringIO' object.\n",
      "  matches = pd.read_html(data_response.text, match=\"Scores & Fixtures\")[0]\n",
      "/var/folders/jh/7wm9ksm12d5cm5v95w2kwj740000gn/T/ipykernel_6732/4238175119.py:104: FutureWarning: Passing literal html to 'read_html' is deprecated and will be removed in a future version. To read from a literal string, wrap it in a 'StringIO' object.\n",
      "  shooting = pd.read_html(shooting_response.text, match=\"Shooting\")[0]\n"
     ]
    },
    {
     "name": "stdout",
     "output_type": "stream",
     "text": [
      "  -> Fetching data for Crystal-Palace...\n"
     ]
    },
    {
     "name": "stderr",
     "output_type": "stream",
     "text": [
      "/var/folders/jh/7wm9ksm12d5cm5v95w2kwj740000gn/T/ipykernel_6732/4238175119.py:86: FutureWarning: Passing literal html to 'read_html' is deprecated and will be removed in a future version. To read from a literal string, wrap it in a 'StringIO' object.\n",
      "  matches = pd.read_html(data_response.text, match=\"Scores & Fixtures\")[0]\n",
      "/var/folders/jh/7wm9ksm12d5cm5v95w2kwj740000gn/T/ipykernel_6732/4238175119.py:104: FutureWarning: Passing literal html to 'read_html' is deprecated and will be removed in a future version. To read from a literal string, wrap it in a 'StringIO' object.\n",
      "  shooting = pd.read_html(shooting_response.text, match=\"Shooting\")[0]\n"
     ]
    },
    {
     "name": "stdout",
     "output_type": "stream",
     "text": [
      "  -> Fetching data for Everton...\n"
     ]
    },
    {
     "name": "stderr",
     "output_type": "stream",
     "text": [
      "/var/folders/jh/7wm9ksm12d5cm5v95w2kwj740000gn/T/ipykernel_6732/4238175119.py:86: FutureWarning: Passing literal html to 'read_html' is deprecated and will be removed in a future version. To read from a literal string, wrap it in a 'StringIO' object.\n",
      "  matches = pd.read_html(data_response.text, match=\"Scores & Fixtures\")[0]\n",
      "/var/folders/jh/7wm9ksm12d5cm5v95w2kwj740000gn/T/ipykernel_6732/4238175119.py:104: FutureWarning: Passing literal html to 'read_html' is deprecated and will be removed in a future version. To read from a literal string, wrap it in a 'StringIO' object.\n",
      "  shooting = pd.read_html(shooting_response.text, match=\"Shooting\")[0]\n"
     ]
    },
    {
     "name": "stdout",
     "output_type": "stream",
     "text": [
      "  -> Fetching data for Wolverhampton-Wanderers...\n"
     ]
    },
    {
     "name": "stderr",
     "output_type": "stream",
     "text": [
      "/var/folders/jh/7wm9ksm12d5cm5v95w2kwj740000gn/T/ipykernel_6732/4238175119.py:86: FutureWarning: Passing literal html to 'read_html' is deprecated and will be removed in a future version. To read from a literal string, wrap it in a 'StringIO' object.\n",
      "  matches = pd.read_html(data_response.text, match=\"Scores & Fixtures\")[0]\n",
      "/var/folders/jh/7wm9ksm12d5cm5v95w2kwj740000gn/T/ipykernel_6732/4238175119.py:104: FutureWarning: Passing literal html to 'read_html' is deprecated and will be removed in a future version. To read from a literal string, wrap it in a 'StringIO' object.\n",
      "  shooting = pd.read_html(shooting_response.text, match=\"Shooting\")[0]\n"
     ]
    },
    {
     "name": "stdout",
     "output_type": "stream",
     "text": [
      "  -> Fetching data for Ipswich-Town...\n"
     ]
    },
    {
     "name": "stderr",
     "output_type": "stream",
     "text": [
      "/var/folders/jh/7wm9ksm12d5cm5v95w2kwj740000gn/T/ipykernel_6732/4238175119.py:86: FutureWarning: Passing literal html to 'read_html' is deprecated and will be removed in a future version. To read from a literal string, wrap it in a 'StringIO' object.\n",
      "  matches = pd.read_html(data_response.text, match=\"Scores & Fixtures\")[0]\n",
      "/var/folders/jh/7wm9ksm12d5cm5v95w2kwj740000gn/T/ipykernel_6732/4238175119.py:104: FutureWarning: Passing literal html to 'read_html' is deprecated and will be removed in a future version. To read from a literal string, wrap it in a 'StringIO' object.\n",
      "  shooting = pd.read_html(shooting_response.text, match=\"Shooting\")[0]\n"
     ]
    },
    {
     "name": "stdout",
     "output_type": "stream",
     "text": [
      "  -> Fetching data for Leicester-City...\n"
     ]
    },
    {
     "name": "stderr",
     "output_type": "stream",
     "text": [
      "/var/folders/jh/7wm9ksm12d5cm5v95w2kwj740000gn/T/ipykernel_6732/4238175119.py:86: FutureWarning: Passing literal html to 'read_html' is deprecated and will be removed in a future version. To read from a literal string, wrap it in a 'StringIO' object.\n",
      "  matches = pd.read_html(data_response.text, match=\"Scores & Fixtures\")[0]\n",
      "/var/folders/jh/7wm9ksm12d5cm5v95w2kwj740000gn/T/ipykernel_6732/4238175119.py:104: FutureWarning: Passing literal html to 'read_html' is deprecated and will be removed in a future version. To read from a literal string, wrap it in a 'StringIO' object.\n",
      "  shooting = pd.read_html(shooting_response.text, match=\"Shooting\")[0]\n"
     ]
    },
    {
     "name": "stdout",
     "output_type": "stream",
     "text": [
      "  -> Fetching data for Southampton...\n"
     ]
    },
    {
     "name": "stderr",
     "output_type": "stream",
     "text": [
      "/var/folders/jh/7wm9ksm12d5cm5v95w2kwj740000gn/T/ipykernel_6732/4238175119.py:86: FutureWarning: Passing literal html to 'read_html' is deprecated and will be removed in a future version. To read from a literal string, wrap it in a 'StringIO' object.\n",
      "  matches = pd.read_html(data_response.text, match=\"Scores & Fixtures\")[0]\n",
      "/var/folders/jh/7wm9ksm12d5cm5v95w2kwj740000gn/T/ipykernel_6732/4238175119.py:104: FutureWarning: Passing literal html to 'read_html' is deprecated and will be removed in a future version. To read from a literal string, wrap it in a 'StringIO' object.\n",
      "  shooting = pd.read_html(shooting_response.text, match=\"Shooting\")[0]\n"
     ]
    },
    {
     "name": "stdout",
     "output_type": "stream",
     "text": [
      "Requesting URL: https://fbref.com/en/comps/9/2023-2024/2023-2024-Premier-League-Stats\n",
      "Status Code: 200\n",
      "  -> Fetching data for Manchester-City...\n"
     ]
    },
    {
     "name": "stderr",
     "output_type": "stream",
     "text": [
      "/var/folders/jh/7wm9ksm12d5cm5v95w2kwj740000gn/T/ipykernel_6732/4238175119.py:86: FutureWarning: Passing literal html to 'read_html' is deprecated and will be removed in a future version. To read from a literal string, wrap it in a 'StringIO' object.\n",
      "  matches = pd.read_html(data_response.text, match=\"Scores & Fixtures\")[0]\n",
      "/var/folders/jh/7wm9ksm12d5cm5v95w2kwj740000gn/T/ipykernel_6732/4238175119.py:104: FutureWarning: Passing literal html to 'read_html' is deprecated and will be removed in a future version. To read from a literal string, wrap it in a 'StringIO' object.\n",
      "  shooting = pd.read_html(shooting_response.text, match=\"Shooting\")[0]\n"
     ]
    },
    {
     "name": "stdout",
     "output_type": "stream",
     "text": [
      "  -> Fetching data for Arsenal...\n"
     ]
    },
    {
     "name": "stderr",
     "output_type": "stream",
     "text": [
      "/var/folders/jh/7wm9ksm12d5cm5v95w2kwj740000gn/T/ipykernel_6732/4238175119.py:86: FutureWarning: Passing literal html to 'read_html' is deprecated and will be removed in a future version. To read from a literal string, wrap it in a 'StringIO' object.\n",
      "  matches = pd.read_html(data_response.text, match=\"Scores & Fixtures\")[0]\n",
      "/var/folders/jh/7wm9ksm12d5cm5v95w2kwj740000gn/T/ipykernel_6732/4238175119.py:104: FutureWarning: Passing literal html to 'read_html' is deprecated and will be removed in a future version. To read from a literal string, wrap it in a 'StringIO' object.\n",
      "  shooting = pd.read_html(shooting_response.text, match=\"Shooting\")[0]\n"
     ]
    },
    {
     "name": "stdout",
     "output_type": "stream",
     "text": [
      "  -> Fetching data for Liverpool...\n"
     ]
    },
    {
     "name": "stderr",
     "output_type": "stream",
     "text": [
      "/var/folders/jh/7wm9ksm12d5cm5v95w2kwj740000gn/T/ipykernel_6732/4238175119.py:86: FutureWarning: Passing literal html to 'read_html' is deprecated and will be removed in a future version. To read from a literal string, wrap it in a 'StringIO' object.\n",
      "  matches = pd.read_html(data_response.text, match=\"Scores & Fixtures\")[0]\n",
      "/var/folders/jh/7wm9ksm12d5cm5v95w2kwj740000gn/T/ipykernel_6732/4238175119.py:104: FutureWarning: Passing literal html to 'read_html' is deprecated and will be removed in a future version. To read from a literal string, wrap it in a 'StringIO' object.\n",
      "  shooting = pd.read_html(shooting_response.text, match=\"Shooting\")[0]\n"
     ]
    },
    {
     "name": "stdout",
     "output_type": "stream",
     "text": [
      "  -> Fetching data for Aston-Villa...\n"
     ]
    },
    {
     "name": "stderr",
     "output_type": "stream",
     "text": [
      "/var/folders/jh/7wm9ksm12d5cm5v95w2kwj740000gn/T/ipykernel_6732/4238175119.py:86: FutureWarning: Passing literal html to 'read_html' is deprecated and will be removed in a future version. To read from a literal string, wrap it in a 'StringIO' object.\n",
      "  matches = pd.read_html(data_response.text, match=\"Scores & Fixtures\")[0]\n",
      "/var/folders/jh/7wm9ksm12d5cm5v95w2kwj740000gn/T/ipykernel_6732/4238175119.py:104: FutureWarning: Passing literal html to 'read_html' is deprecated and will be removed in a future version. To read from a literal string, wrap it in a 'StringIO' object.\n",
      "  shooting = pd.read_html(shooting_response.text, match=\"Shooting\")[0]\n"
     ]
    },
    {
     "name": "stdout",
     "output_type": "stream",
     "text": [
      "  -> Fetching data for Tottenham-Hotspur...\n"
     ]
    },
    {
     "name": "stderr",
     "output_type": "stream",
     "text": [
      "/var/folders/jh/7wm9ksm12d5cm5v95w2kwj740000gn/T/ipykernel_6732/4238175119.py:86: FutureWarning: Passing literal html to 'read_html' is deprecated and will be removed in a future version. To read from a literal string, wrap it in a 'StringIO' object.\n",
      "  matches = pd.read_html(data_response.text, match=\"Scores & Fixtures\")[0]\n",
      "/var/folders/jh/7wm9ksm12d5cm5v95w2kwj740000gn/T/ipykernel_6732/4238175119.py:104: FutureWarning: Passing literal html to 'read_html' is deprecated and will be removed in a future version. To read from a literal string, wrap it in a 'StringIO' object.\n",
      "  shooting = pd.read_html(shooting_response.text, match=\"Shooting\")[0]\n"
     ]
    },
    {
     "name": "stdout",
     "output_type": "stream",
     "text": [
      "  -> Fetching data for Chelsea...\n"
     ]
    },
    {
     "name": "stderr",
     "output_type": "stream",
     "text": [
      "/var/folders/jh/7wm9ksm12d5cm5v95w2kwj740000gn/T/ipykernel_6732/4238175119.py:86: FutureWarning: Passing literal html to 'read_html' is deprecated and will be removed in a future version. To read from a literal string, wrap it in a 'StringIO' object.\n",
      "  matches = pd.read_html(data_response.text, match=\"Scores & Fixtures\")[0]\n",
      "/var/folders/jh/7wm9ksm12d5cm5v95w2kwj740000gn/T/ipykernel_6732/4238175119.py:104: FutureWarning: Passing literal html to 'read_html' is deprecated and will be removed in a future version. To read from a literal string, wrap it in a 'StringIO' object.\n",
      "  shooting = pd.read_html(shooting_response.text, match=\"Shooting\")[0]\n"
     ]
    },
    {
     "name": "stdout",
     "output_type": "stream",
     "text": [
      "  -> Fetching data for Newcastle-United...\n"
     ]
    },
    {
     "name": "stderr",
     "output_type": "stream",
     "text": [
      "/var/folders/jh/7wm9ksm12d5cm5v95w2kwj740000gn/T/ipykernel_6732/4238175119.py:86: FutureWarning: Passing literal html to 'read_html' is deprecated and will be removed in a future version. To read from a literal string, wrap it in a 'StringIO' object.\n",
      "  matches = pd.read_html(data_response.text, match=\"Scores & Fixtures\")[0]\n",
      "/var/folders/jh/7wm9ksm12d5cm5v95w2kwj740000gn/T/ipykernel_6732/4238175119.py:104: FutureWarning: Passing literal html to 'read_html' is deprecated and will be removed in a future version. To read from a literal string, wrap it in a 'StringIO' object.\n",
      "  shooting = pd.read_html(shooting_response.text, match=\"Shooting\")[0]\n"
     ]
    },
    {
     "name": "stdout",
     "output_type": "stream",
     "text": [
      "  -> Fetching data for Manchester-United...\n"
     ]
    },
    {
     "name": "stderr",
     "output_type": "stream",
     "text": [
      "/var/folders/jh/7wm9ksm12d5cm5v95w2kwj740000gn/T/ipykernel_6732/4238175119.py:86: FutureWarning: Passing literal html to 'read_html' is deprecated and will be removed in a future version. To read from a literal string, wrap it in a 'StringIO' object.\n",
      "  matches = pd.read_html(data_response.text, match=\"Scores & Fixtures\")[0]\n",
      "/var/folders/jh/7wm9ksm12d5cm5v95w2kwj740000gn/T/ipykernel_6732/4238175119.py:104: FutureWarning: Passing literal html to 'read_html' is deprecated and will be removed in a future version. To read from a literal string, wrap it in a 'StringIO' object.\n",
      "  shooting = pd.read_html(shooting_response.text, match=\"Shooting\")[0]\n"
     ]
    },
    {
     "name": "stdout",
     "output_type": "stream",
     "text": [
      "  -> Fetching data for West-Ham-United...\n"
     ]
    },
    {
     "name": "stderr",
     "output_type": "stream",
     "text": [
      "/var/folders/jh/7wm9ksm12d5cm5v95w2kwj740000gn/T/ipykernel_6732/4238175119.py:86: FutureWarning: Passing literal html to 'read_html' is deprecated and will be removed in a future version. To read from a literal string, wrap it in a 'StringIO' object.\n",
      "  matches = pd.read_html(data_response.text, match=\"Scores & Fixtures\")[0]\n",
      "/var/folders/jh/7wm9ksm12d5cm5v95w2kwj740000gn/T/ipykernel_6732/4238175119.py:104: FutureWarning: Passing literal html to 'read_html' is deprecated and will be removed in a future version. To read from a literal string, wrap it in a 'StringIO' object.\n",
      "  shooting = pd.read_html(shooting_response.text, match=\"Shooting\")[0]\n"
     ]
    },
    {
     "name": "stdout",
     "output_type": "stream",
     "text": [
      "  -> Fetching data for Crystal-Palace...\n"
     ]
    },
    {
     "name": "stderr",
     "output_type": "stream",
     "text": [
      "/var/folders/jh/7wm9ksm12d5cm5v95w2kwj740000gn/T/ipykernel_6732/4238175119.py:86: FutureWarning: Passing literal html to 'read_html' is deprecated and will be removed in a future version. To read from a literal string, wrap it in a 'StringIO' object.\n",
      "  matches = pd.read_html(data_response.text, match=\"Scores & Fixtures\")[0]\n",
      "/var/folders/jh/7wm9ksm12d5cm5v95w2kwj740000gn/T/ipykernel_6732/4238175119.py:104: FutureWarning: Passing literal html to 'read_html' is deprecated and will be removed in a future version. To read from a literal string, wrap it in a 'StringIO' object.\n",
      "  shooting = pd.read_html(shooting_response.text, match=\"Shooting\")[0]\n"
     ]
    },
    {
     "name": "stdout",
     "output_type": "stream",
     "text": [
      "  -> Fetching data for Brighton-and-Hove-Albion...\n"
     ]
    },
    {
     "name": "stderr",
     "output_type": "stream",
     "text": [
      "/var/folders/jh/7wm9ksm12d5cm5v95w2kwj740000gn/T/ipykernel_6732/4238175119.py:86: FutureWarning: Passing literal html to 'read_html' is deprecated and will be removed in a future version. To read from a literal string, wrap it in a 'StringIO' object.\n",
      "  matches = pd.read_html(data_response.text, match=\"Scores & Fixtures\")[0]\n",
      "/var/folders/jh/7wm9ksm12d5cm5v95w2kwj740000gn/T/ipykernel_6732/4238175119.py:104: FutureWarning: Passing literal html to 'read_html' is deprecated and will be removed in a future version. To read from a literal string, wrap it in a 'StringIO' object.\n",
      "  shooting = pd.read_html(shooting_response.text, match=\"Shooting\")[0]\n"
     ]
    },
    {
     "name": "stdout",
     "output_type": "stream",
     "text": [
      "  -> Fetching data for Bournemouth...\n"
     ]
    },
    {
     "name": "stderr",
     "output_type": "stream",
     "text": [
      "/var/folders/jh/7wm9ksm12d5cm5v95w2kwj740000gn/T/ipykernel_6732/4238175119.py:86: FutureWarning: Passing literal html to 'read_html' is deprecated and will be removed in a future version. To read from a literal string, wrap it in a 'StringIO' object.\n",
      "  matches = pd.read_html(data_response.text, match=\"Scores & Fixtures\")[0]\n",
      "/var/folders/jh/7wm9ksm12d5cm5v95w2kwj740000gn/T/ipykernel_6732/4238175119.py:104: FutureWarning: Passing literal html to 'read_html' is deprecated and will be removed in a future version. To read from a literal string, wrap it in a 'StringIO' object.\n",
      "  shooting = pd.read_html(shooting_response.text, match=\"Shooting\")[0]\n"
     ]
    },
    {
     "name": "stdout",
     "output_type": "stream",
     "text": [
      "  -> Fetching data for Fulham...\n"
     ]
    },
    {
     "name": "stderr",
     "output_type": "stream",
     "text": [
      "/var/folders/jh/7wm9ksm12d5cm5v95w2kwj740000gn/T/ipykernel_6732/4238175119.py:86: FutureWarning: Passing literal html to 'read_html' is deprecated and will be removed in a future version. To read from a literal string, wrap it in a 'StringIO' object.\n",
      "  matches = pd.read_html(data_response.text, match=\"Scores & Fixtures\")[0]\n",
      "/var/folders/jh/7wm9ksm12d5cm5v95w2kwj740000gn/T/ipykernel_6732/4238175119.py:104: FutureWarning: Passing literal html to 'read_html' is deprecated and will be removed in a future version. To read from a literal string, wrap it in a 'StringIO' object.\n",
      "  shooting = pd.read_html(shooting_response.text, match=\"Shooting\")[0]\n"
     ]
    },
    {
     "name": "stdout",
     "output_type": "stream",
     "text": [
      "  -> Fetching data for Wolverhampton-Wanderers...\n"
     ]
    },
    {
     "name": "stderr",
     "output_type": "stream",
     "text": [
      "/var/folders/jh/7wm9ksm12d5cm5v95w2kwj740000gn/T/ipykernel_6732/4238175119.py:86: FutureWarning: Passing literal html to 'read_html' is deprecated and will be removed in a future version. To read from a literal string, wrap it in a 'StringIO' object.\n",
      "  matches = pd.read_html(data_response.text, match=\"Scores & Fixtures\")[0]\n",
      "/var/folders/jh/7wm9ksm12d5cm5v95w2kwj740000gn/T/ipykernel_6732/4238175119.py:104: FutureWarning: Passing literal html to 'read_html' is deprecated and will be removed in a future version. To read from a literal string, wrap it in a 'StringIO' object.\n",
      "  shooting = pd.read_html(shooting_response.text, match=\"Shooting\")[0]\n"
     ]
    },
    {
     "name": "stdout",
     "output_type": "stream",
     "text": [
      "  -> Fetching data for Everton...\n"
     ]
    },
    {
     "name": "stderr",
     "output_type": "stream",
     "text": [
      "/var/folders/jh/7wm9ksm12d5cm5v95w2kwj740000gn/T/ipykernel_6732/4238175119.py:86: FutureWarning: Passing literal html to 'read_html' is deprecated and will be removed in a future version. To read from a literal string, wrap it in a 'StringIO' object.\n",
      "  matches = pd.read_html(data_response.text, match=\"Scores & Fixtures\")[0]\n",
      "/var/folders/jh/7wm9ksm12d5cm5v95w2kwj740000gn/T/ipykernel_6732/4238175119.py:104: FutureWarning: Passing literal html to 'read_html' is deprecated and will be removed in a future version. To read from a literal string, wrap it in a 'StringIO' object.\n",
      "  shooting = pd.read_html(shooting_response.text, match=\"Shooting\")[0]\n"
     ]
    },
    {
     "name": "stdout",
     "output_type": "stream",
     "text": [
      "  -> Fetching data for Brentford...\n"
     ]
    },
    {
     "name": "stderr",
     "output_type": "stream",
     "text": [
      "/var/folders/jh/7wm9ksm12d5cm5v95w2kwj740000gn/T/ipykernel_6732/4238175119.py:86: FutureWarning: Passing literal html to 'read_html' is deprecated and will be removed in a future version. To read from a literal string, wrap it in a 'StringIO' object.\n",
      "  matches = pd.read_html(data_response.text, match=\"Scores & Fixtures\")[0]\n",
      "/var/folders/jh/7wm9ksm12d5cm5v95w2kwj740000gn/T/ipykernel_6732/4238175119.py:104: FutureWarning: Passing literal html to 'read_html' is deprecated and will be removed in a future version. To read from a literal string, wrap it in a 'StringIO' object.\n",
      "  shooting = pd.read_html(shooting_response.text, match=\"Shooting\")[0]\n"
     ]
    },
    {
     "name": "stdout",
     "output_type": "stream",
     "text": [
      "  -> Fetching data for Nottingham-Forest...\n"
     ]
    },
    {
     "name": "stderr",
     "output_type": "stream",
     "text": [
      "/var/folders/jh/7wm9ksm12d5cm5v95w2kwj740000gn/T/ipykernel_6732/4238175119.py:86: FutureWarning: Passing literal html to 'read_html' is deprecated and will be removed in a future version. To read from a literal string, wrap it in a 'StringIO' object.\n",
      "  matches = pd.read_html(data_response.text, match=\"Scores & Fixtures\")[0]\n",
      "/var/folders/jh/7wm9ksm12d5cm5v95w2kwj740000gn/T/ipykernel_6732/4238175119.py:104: FutureWarning: Passing literal html to 'read_html' is deprecated and will be removed in a future version. To read from a literal string, wrap it in a 'StringIO' object.\n",
      "  shooting = pd.read_html(shooting_response.text, match=\"Shooting\")[0]\n"
     ]
    },
    {
     "name": "stdout",
     "output_type": "stream",
     "text": [
      "  -> Fetching data for Luton-Town...\n"
     ]
    },
    {
     "name": "stderr",
     "output_type": "stream",
     "text": [
      "/var/folders/jh/7wm9ksm12d5cm5v95w2kwj740000gn/T/ipykernel_6732/4238175119.py:86: FutureWarning: Passing literal html to 'read_html' is deprecated and will be removed in a future version. To read from a literal string, wrap it in a 'StringIO' object.\n",
      "  matches = pd.read_html(data_response.text, match=\"Scores & Fixtures\")[0]\n",
      "/var/folders/jh/7wm9ksm12d5cm5v95w2kwj740000gn/T/ipykernel_6732/4238175119.py:104: FutureWarning: Passing literal html to 'read_html' is deprecated and will be removed in a future version. To read from a literal string, wrap it in a 'StringIO' object.\n",
      "  shooting = pd.read_html(shooting_response.text, match=\"Shooting\")[0]\n"
     ]
    },
    {
     "name": "stdout",
     "output_type": "stream",
     "text": [
      "  -> Fetching data for Burnley...\n"
     ]
    },
    {
     "name": "stderr",
     "output_type": "stream",
     "text": [
      "/var/folders/jh/7wm9ksm12d5cm5v95w2kwj740000gn/T/ipykernel_6732/4238175119.py:86: FutureWarning: Passing literal html to 'read_html' is deprecated and will be removed in a future version. To read from a literal string, wrap it in a 'StringIO' object.\n",
      "  matches = pd.read_html(data_response.text, match=\"Scores & Fixtures\")[0]\n",
      "/var/folders/jh/7wm9ksm12d5cm5v95w2kwj740000gn/T/ipykernel_6732/4238175119.py:104: FutureWarning: Passing literal html to 'read_html' is deprecated and will be removed in a future version. To read from a literal string, wrap it in a 'StringIO' object.\n",
      "  shooting = pd.read_html(shooting_response.text, match=\"Shooting\")[0]\n"
     ]
    },
    {
     "name": "stdout",
     "output_type": "stream",
     "text": [
      "  -> Fetching data for Sheffield-United...\n"
     ]
    },
    {
     "name": "stderr",
     "output_type": "stream",
     "text": [
      "/var/folders/jh/7wm9ksm12d5cm5v95w2kwj740000gn/T/ipykernel_6732/4238175119.py:86: FutureWarning: Passing literal html to 'read_html' is deprecated and will be removed in a future version. To read from a literal string, wrap it in a 'StringIO' object.\n",
      "  matches = pd.read_html(data_response.text, match=\"Scores & Fixtures\")[0]\n",
      "/var/folders/jh/7wm9ksm12d5cm5v95w2kwj740000gn/T/ipykernel_6732/4238175119.py:104: FutureWarning: Passing literal html to 'read_html' is deprecated and will be removed in a future version. To read from a literal string, wrap it in a 'StringIO' object.\n",
      "  shooting = pd.read_html(shooting_response.text, match=\"Shooting\")[0]\n"
     ]
    },
    {
     "name": "stdout",
     "output_type": "stream",
     "text": [
      "Requesting URL: https://fbref.com/en/comps/9/2022-2023/2022-2023-Premier-League-Stats\n",
      "Status Code: 200\n",
      "  -> Fetching data for Manchester-City...\n"
     ]
    },
    {
     "name": "stderr",
     "output_type": "stream",
     "text": [
      "/var/folders/jh/7wm9ksm12d5cm5v95w2kwj740000gn/T/ipykernel_6732/4238175119.py:86: FutureWarning: Passing literal html to 'read_html' is deprecated and will be removed in a future version. To read from a literal string, wrap it in a 'StringIO' object.\n",
      "  matches = pd.read_html(data_response.text, match=\"Scores & Fixtures\")[0]\n",
      "/var/folders/jh/7wm9ksm12d5cm5v95w2kwj740000gn/T/ipykernel_6732/4238175119.py:104: FutureWarning: Passing literal html to 'read_html' is deprecated and will be removed in a future version. To read from a literal string, wrap it in a 'StringIO' object.\n",
      "  shooting = pd.read_html(shooting_response.text, match=\"Shooting\")[0]\n"
     ]
    },
    {
     "name": "stdout",
     "output_type": "stream",
     "text": [
      "  -> Fetching data for Arsenal...\n"
     ]
    },
    {
     "name": "stderr",
     "output_type": "stream",
     "text": [
      "/var/folders/jh/7wm9ksm12d5cm5v95w2kwj740000gn/T/ipykernel_6732/4238175119.py:86: FutureWarning: Passing literal html to 'read_html' is deprecated and will be removed in a future version. To read from a literal string, wrap it in a 'StringIO' object.\n",
      "  matches = pd.read_html(data_response.text, match=\"Scores & Fixtures\")[0]\n",
      "/var/folders/jh/7wm9ksm12d5cm5v95w2kwj740000gn/T/ipykernel_6732/4238175119.py:104: FutureWarning: Passing literal html to 'read_html' is deprecated and will be removed in a future version. To read from a literal string, wrap it in a 'StringIO' object.\n",
      "  shooting = pd.read_html(shooting_response.text, match=\"Shooting\")[0]\n"
     ]
    },
    {
     "name": "stdout",
     "output_type": "stream",
     "text": [
      "  -> Fetching data for Manchester-United...\n"
     ]
    },
    {
     "name": "stderr",
     "output_type": "stream",
     "text": [
      "/var/folders/jh/7wm9ksm12d5cm5v95w2kwj740000gn/T/ipykernel_6732/4238175119.py:86: FutureWarning: Passing literal html to 'read_html' is deprecated and will be removed in a future version. To read from a literal string, wrap it in a 'StringIO' object.\n",
      "  matches = pd.read_html(data_response.text, match=\"Scores & Fixtures\")[0]\n",
      "/var/folders/jh/7wm9ksm12d5cm5v95w2kwj740000gn/T/ipykernel_6732/4238175119.py:104: FutureWarning: Passing literal html to 'read_html' is deprecated and will be removed in a future version. To read from a literal string, wrap it in a 'StringIO' object.\n",
      "  shooting = pd.read_html(shooting_response.text, match=\"Shooting\")[0]\n"
     ]
    },
    {
     "name": "stdout",
     "output_type": "stream",
     "text": [
      "  -> Fetching data for Newcastle-United...\n"
     ]
    },
    {
     "name": "stderr",
     "output_type": "stream",
     "text": [
      "/var/folders/jh/7wm9ksm12d5cm5v95w2kwj740000gn/T/ipykernel_6732/4238175119.py:86: FutureWarning: Passing literal html to 'read_html' is deprecated and will be removed in a future version. To read from a literal string, wrap it in a 'StringIO' object.\n",
      "  matches = pd.read_html(data_response.text, match=\"Scores & Fixtures\")[0]\n",
      "/var/folders/jh/7wm9ksm12d5cm5v95w2kwj740000gn/T/ipykernel_6732/4238175119.py:104: FutureWarning: Passing literal html to 'read_html' is deprecated and will be removed in a future version. To read from a literal string, wrap it in a 'StringIO' object.\n",
      "  shooting = pd.read_html(shooting_response.text, match=\"Shooting\")[0]\n"
     ]
    },
    {
     "name": "stdout",
     "output_type": "stream",
     "text": [
      "  -> Fetching data for Liverpool...\n"
     ]
    },
    {
     "name": "stderr",
     "output_type": "stream",
     "text": [
      "/var/folders/jh/7wm9ksm12d5cm5v95w2kwj740000gn/T/ipykernel_6732/4238175119.py:86: FutureWarning: Passing literal html to 'read_html' is deprecated and will be removed in a future version. To read from a literal string, wrap it in a 'StringIO' object.\n",
      "  matches = pd.read_html(data_response.text, match=\"Scores & Fixtures\")[0]\n",
      "/var/folders/jh/7wm9ksm12d5cm5v95w2kwj740000gn/T/ipykernel_6732/4238175119.py:104: FutureWarning: Passing literal html to 'read_html' is deprecated and will be removed in a future version. To read from a literal string, wrap it in a 'StringIO' object.\n",
      "  shooting = pd.read_html(shooting_response.text, match=\"Shooting\")[0]\n"
     ]
    },
    {
     "name": "stdout",
     "output_type": "stream",
     "text": [
      "  -> Fetching data for Brighton-and-Hove-Albion...\n"
     ]
    },
    {
     "name": "stderr",
     "output_type": "stream",
     "text": [
      "/var/folders/jh/7wm9ksm12d5cm5v95w2kwj740000gn/T/ipykernel_6732/4238175119.py:86: FutureWarning: Passing literal html to 'read_html' is deprecated and will be removed in a future version. To read from a literal string, wrap it in a 'StringIO' object.\n",
      "  matches = pd.read_html(data_response.text, match=\"Scores & Fixtures\")[0]\n",
      "/var/folders/jh/7wm9ksm12d5cm5v95w2kwj740000gn/T/ipykernel_6732/4238175119.py:104: FutureWarning: Passing literal html to 'read_html' is deprecated and will be removed in a future version. To read from a literal string, wrap it in a 'StringIO' object.\n",
      "  shooting = pd.read_html(shooting_response.text, match=\"Shooting\")[0]\n"
     ]
    },
    {
     "name": "stdout",
     "output_type": "stream",
     "text": [
      "  -> Fetching data for Aston-Villa...\n"
     ]
    },
    {
     "name": "stderr",
     "output_type": "stream",
     "text": [
      "/var/folders/jh/7wm9ksm12d5cm5v95w2kwj740000gn/T/ipykernel_6732/4238175119.py:86: FutureWarning: Passing literal html to 'read_html' is deprecated and will be removed in a future version. To read from a literal string, wrap it in a 'StringIO' object.\n",
      "  matches = pd.read_html(data_response.text, match=\"Scores & Fixtures\")[0]\n",
      "/var/folders/jh/7wm9ksm12d5cm5v95w2kwj740000gn/T/ipykernel_6732/4238175119.py:104: FutureWarning: Passing literal html to 'read_html' is deprecated and will be removed in a future version. To read from a literal string, wrap it in a 'StringIO' object.\n",
      "  shooting = pd.read_html(shooting_response.text, match=\"Shooting\")[0]\n"
     ]
    },
    {
     "name": "stdout",
     "output_type": "stream",
     "text": [
      "  -> Fetching data for Tottenham-Hotspur...\n"
     ]
    },
    {
     "name": "stderr",
     "output_type": "stream",
     "text": [
      "/var/folders/jh/7wm9ksm12d5cm5v95w2kwj740000gn/T/ipykernel_6732/4238175119.py:86: FutureWarning: Passing literal html to 'read_html' is deprecated and will be removed in a future version. To read from a literal string, wrap it in a 'StringIO' object.\n",
      "  matches = pd.read_html(data_response.text, match=\"Scores & Fixtures\")[0]\n",
      "/var/folders/jh/7wm9ksm12d5cm5v95w2kwj740000gn/T/ipykernel_6732/4238175119.py:104: FutureWarning: Passing literal html to 'read_html' is deprecated and will be removed in a future version. To read from a literal string, wrap it in a 'StringIO' object.\n",
      "  shooting = pd.read_html(shooting_response.text, match=\"Shooting\")[0]\n"
     ]
    },
    {
     "name": "stdout",
     "output_type": "stream",
     "text": [
      "  -> Fetching data for Brentford...\n"
     ]
    },
    {
     "name": "stderr",
     "output_type": "stream",
     "text": [
      "/var/folders/jh/7wm9ksm12d5cm5v95w2kwj740000gn/T/ipykernel_6732/4238175119.py:86: FutureWarning: Passing literal html to 'read_html' is deprecated and will be removed in a future version. To read from a literal string, wrap it in a 'StringIO' object.\n",
      "  matches = pd.read_html(data_response.text, match=\"Scores & Fixtures\")[0]\n",
      "/var/folders/jh/7wm9ksm12d5cm5v95w2kwj740000gn/T/ipykernel_6732/4238175119.py:104: FutureWarning: Passing literal html to 'read_html' is deprecated and will be removed in a future version. To read from a literal string, wrap it in a 'StringIO' object.\n",
      "  shooting = pd.read_html(shooting_response.text, match=\"Shooting\")[0]\n"
     ]
    },
    {
     "name": "stdout",
     "output_type": "stream",
     "text": [
      "  -> Fetching data for Fulham...\n"
     ]
    },
    {
     "name": "stderr",
     "output_type": "stream",
     "text": [
      "/var/folders/jh/7wm9ksm12d5cm5v95w2kwj740000gn/T/ipykernel_6732/4238175119.py:86: FutureWarning: Passing literal html to 'read_html' is deprecated and will be removed in a future version. To read from a literal string, wrap it in a 'StringIO' object.\n",
      "  matches = pd.read_html(data_response.text, match=\"Scores & Fixtures\")[0]\n",
      "/var/folders/jh/7wm9ksm12d5cm5v95w2kwj740000gn/T/ipykernel_6732/4238175119.py:104: FutureWarning: Passing literal html to 'read_html' is deprecated and will be removed in a future version. To read from a literal string, wrap it in a 'StringIO' object.\n",
      "  shooting = pd.read_html(shooting_response.text, match=\"Shooting\")[0]\n"
     ]
    },
    {
     "name": "stdout",
     "output_type": "stream",
     "text": [
      "  -> Fetching data for Crystal-Palace...\n"
     ]
    },
    {
     "name": "stderr",
     "output_type": "stream",
     "text": [
      "/var/folders/jh/7wm9ksm12d5cm5v95w2kwj740000gn/T/ipykernel_6732/4238175119.py:86: FutureWarning: Passing literal html to 'read_html' is deprecated and will be removed in a future version. To read from a literal string, wrap it in a 'StringIO' object.\n",
      "  matches = pd.read_html(data_response.text, match=\"Scores & Fixtures\")[0]\n",
      "/var/folders/jh/7wm9ksm12d5cm5v95w2kwj740000gn/T/ipykernel_6732/4238175119.py:104: FutureWarning: Passing literal html to 'read_html' is deprecated and will be removed in a future version. To read from a literal string, wrap it in a 'StringIO' object.\n",
      "  shooting = pd.read_html(shooting_response.text, match=\"Shooting\")[0]\n"
     ]
    },
    {
     "name": "stdout",
     "output_type": "stream",
     "text": [
      "  -> Fetching data for Chelsea...\n"
     ]
    },
    {
     "name": "stderr",
     "output_type": "stream",
     "text": [
      "/var/folders/jh/7wm9ksm12d5cm5v95w2kwj740000gn/T/ipykernel_6732/4238175119.py:86: FutureWarning: Passing literal html to 'read_html' is deprecated and will be removed in a future version. To read from a literal string, wrap it in a 'StringIO' object.\n",
      "  matches = pd.read_html(data_response.text, match=\"Scores & Fixtures\")[0]\n",
      "/var/folders/jh/7wm9ksm12d5cm5v95w2kwj740000gn/T/ipykernel_6732/4238175119.py:104: FutureWarning: Passing literal html to 'read_html' is deprecated and will be removed in a future version. To read from a literal string, wrap it in a 'StringIO' object.\n",
      "  shooting = pd.read_html(shooting_response.text, match=\"Shooting\")[0]\n"
     ]
    },
    {
     "name": "stdout",
     "output_type": "stream",
     "text": [
      "  -> Fetching data for Wolverhampton-Wanderers...\n"
     ]
    },
    {
     "name": "stderr",
     "output_type": "stream",
     "text": [
      "/var/folders/jh/7wm9ksm12d5cm5v95w2kwj740000gn/T/ipykernel_6732/4238175119.py:86: FutureWarning: Passing literal html to 'read_html' is deprecated and will be removed in a future version. To read from a literal string, wrap it in a 'StringIO' object.\n",
      "  matches = pd.read_html(data_response.text, match=\"Scores & Fixtures\")[0]\n",
      "/var/folders/jh/7wm9ksm12d5cm5v95w2kwj740000gn/T/ipykernel_6732/4238175119.py:104: FutureWarning: Passing literal html to 'read_html' is deprecated and will be removed in a future version. To read from a literal string, wrap it in a 'StringIO' object.\n",
      "  shooting = pd.read_html(shooting_response.text, match=\"Shooting\")[0]\n"
     ]
    },
    {
     "name": "stdout",
     "output_type": "stream",
     "text": [
      "  -> Fetching data for West-Ham-United...\n"
     ]
    },
    {
     "name": "stderr",
     "output_type": "stream",
     "text": [
      "/var/folders/jh/7wm9ksm12d5cm5v95w2kwj740000gn/T/ipykernel_6732/4238175119.py:86: FutureWarning: Passing literal html to 'read_html' is deprecated and will be removed in a future version. To read from a literal string, wrap it in a 'StringIO' object.\n",
      "  matches = pd.read_html(data_response.text, match=\"Scores & Fixtures\")[0]\n",
      "/var/folders/jh/7wm9ksm12d5cm5v95w2kwj740000gn/T/ipykernel_6732/4238175119.py:104: FutureWarning: Passing literal html to 'read_html' is deprecated and will be removed in a future version. To read from a literal string, wrap it in a 'StringIO' object.\n",
      "  shooting = pd.read_html(shooting_response.text, match=\"Shooting\")[0]\n"
     ]
    },
    {
     "name": "stdout",
     "output_type": "stream",
     "text": [
      "  -> Fetching data for Bournemouth...\n"
     ]
    },
    {
     "name": "stderr",
     "output_type": "stream",
     "text": [
      "/var/folders/jh/7wm9ksm12d5cm5v95w2kwj740000gn/T/ipykernel_6732/4238175119.py:86: FutureWarning: Passing literal html to 'read_html' is deprecated and will be removed in a future version. To read from a literal string, wrap it in a 'StringIO' object.\n",
      "  matches = pd.read_html(data_response.text, match=\"Scores & Fixtures\")[0]\n",
      "/var/folders/jh/7wm9ksm12d5cm5v95w2kwj740000gn/T/ipykernel_6732/4238175119.py:104: FutureWarning: Passing literal html to 'read_html' is deprecated and will be removed in a future version. To read from a literal string, wrap it in a 'StringIO' object.\n",
      "  shooting = pd.read_html(shooting_response.text, match=\"Shooting\")[0]\n"
     ]
    },
    {
     "name": "stdout",
     "output_type": "stream",
     "text": [
      "  -> Fetching data for Nottingham-Forest...\n"
     ]
    },
    {
     "name": "stderr",
     "output_type": "stream",
     "text": [
      "/var/folders/jh/7wm9ksm12d5cm5v95w2kwj740000gn/T/ipykernel_6732/4238175119.py:86: FutureWarning: Passing literal html to 'read_html' is deprecated and will be removed in a future version. To read from a literal string, wrap it in a 'StringIO' object.\n",
      "  matches = pd.read_html(data_response.text, match=\"Scores & Fixtures\")[0]\n",
      "/var/folders/jh/7wm9ksm12d5cm5v95w2kwj740000gn/T/ipykernel_6732/4238175119.py:104: FutureWarning: Passing literal html to 'read_html' is deprecated and will be removed in a future version. To read from a literal string, wrap it in a 'StringIO' object.\n",
      "  shooting = pd.read_html(shooting_response.text, match=\"Shooting\")[0]\n"
     ]
    },
    {
     "name": "stdout",
     "output_type": "stream",
     "text": [
      "  -> Fetching data for Everton...\n"
     ]
    },
    {
     "name": "stderr",
     "output_type": "stream",
     "text": [
      "/var/folders/jh/7wm9ksm12d5cm5v95w2kwj740000gn/T/ipykernel_6732/4238175119.py:86: FutureWarning: Passing literal html to 'read_html' is deprecated and will be removed in a future version. To read from a literal string, wrap it in a 'StringIO' object.\n",
      "  matches = pd.read_html(data_response.text, match=\"Scores & Fixtures\")[0]\n",
      "/var/folders/jh/7wm9ksm12d5cm5v95w2kwj740000gn/T/ipykernel_6732/4238175119.py:104: FutureWarning: Passing literal html to 'read_html' is deprecated and will be removed in a future version. To read from a literal string, wrap it in a 'StringIO' object.\n",
      "  shooting = pd.read_html(shooting_response.text, match=\"Shooting\")[0]\n"
     ]
    },
    {
     "name": "stdout",
     "output_type": "stream",
     "text": [
      "  -> Fetching data for Leicester-City...\n"
     ]
    },
    {
     "name": "stderr",
     "output_type": "stream",
     "text": [
      "/var/folders/jh/7wm9ksm12d5cm5v95w2kwj740000gn/T/ipykernel_6732/4238175119.py:86: FutureWarning: Passing literal html to 'read_html' is deprecated and will be removed in a future version. To read from a literal string, wrap it in a 'StringIO' object.\n",
      "  matches = pd.read_html(data_response.text, match=\"Scores & Fixtures\")[0]\n",
      "/var/folders/jh/7wm9ksm12d5cm5v95w2kwj740000gn/T/ipykernel_6732/4238175119.py:104: FutureWarning: Passing literal html to 'read_html' is deprecated and will be removed in a future version. To read from a literal string, wrap it in a 'StringIO' object.\n",
      "  shooting = pd.read_html(shooting_response.text, match=\"Shooting\")[0]\n"
     ]
    },
    {
     "name": "stdout",
     "output_type": "stream",
     "text": [
      "  -> Fetching data for Leeds-United...\n"
     ]
    },
    {
     "name": "stderr",
     "output_type": "stream",
     "text": [
      "/var/folders/jh/7wm9ksm12d5cm5v95w2kwj740000gn/T/ipykernel_6732/4238175119.py:86: FutureWarning: Passing literal html to 'read_html' is deprecated and will be removed in a future version. To read from a literal string, wrap it in a 'StringIO' object.\n",
      "  matches = pd.read_html(data_response.text, match=\"Scores & Fixtures\")[0]\n",
      "/var/folders/jh/7wm9ksm12d5cm5v95w2kwj740000gn/T/ipykernel_6732/4238175119.py:104: FutureWarning: Passing literal html to 'read_html' is deprecated and will be removed in a future version. To read from a literal string, wrap it in a 'StringIO' object.\n",
      "  shooting = pd.read_html(shooting_response.text, match=\"Shooting\")[0]\n"
     ]
    },
    {
     "name": "stdout",
     "output_type": "stream",
     "text": [
      "  -> Fetching data for Southampton...\n"
     ]
    },
    {
     "name": "stderr",
     "output_type": "stream",
     "text": [
      "/var/folders/jh/7wm9ksm12d5cm5v95w2kwj740000gn/T/ipykernel_6732/4238175119.py:86: FutureWarning: Passing literal html to 'read_html' is deprecated and will be removed in a future version. To read from a literal string, wrap it in a 'StringIO' object.\n",
      "  matches = pd.read_html(data_response.text, match=\"Scores & Fixtures\")[0]\n",
      "/var/folders/jh/7wm9ksm12d5cm5v95w2kwj740000gn/T/ipykernel_6732/4238175119.py:104: FutureWarning: Passing literal html to 'read_html' is deprecated and will be removed in a future version. To read from a literal string, wrap it in a 'StringIO' object.\n",
      "  shooting = pd.read_html(shooting_response.text, match=\"Shooting\")[0]\n"
     ]
    },
    {
     "name": "stdout",
     "output_type": "stream",
     "text": [
      "Final data shape: (1912, 28)\n"
     ]
    }
   ],
   "source": [
    "import time\n",
    "import random\n",
    "import requests\n",
    "from bs4 import BeautifulSoup\n",
    "import pandas as pd\n",
    "\n",
    "# Example variables; adjust for your use case\n",
    "years = [2021, 2020, 2019]  # or whatever years you need\n",
    "standings_url = \"https://fbref.com/en/comps/9/Premier-League-Stats\"  # starting URL\n",
    "all_matches = []  # list to accumulate all match data\n",
    "\n",
    "headers = {\n",
    "    \"User-Agent\": (\n",
    "        \"Mozilla/5.0 (Windows NT 10.0; Win64; x64) \"\n",
    "        \"AppleWebKit/537.36 (KHTML, like Gecko) \"\n",
    "        \"Chrome/91.0.4472.124 Safari/537.36\"\n",
    "    ),\n",
    "}\n",
    "\n",
    "for year in years:\n",
    "    try:\n",
    "        print(f\"Requesting URL: {standings_url}\")\n",
    "\n",
    "        # Make the request without a proxy\n",
    "        response = requests.get(standings_url, headers=headers)\n",
    "        print(f\"Status Code: {response.status_code}\")\n",
    "\n",
    "        # Handle rate limiting explicitly\n",
    "        if response.status_code == 429:\n",
    "            print(\"Rate-limited. Retrying after 5 minutes...\")\n",
    "            time.sleep(300)  # Wait 5 minutes before retrying\n",
    "            continue\n",
    "\n",
    "        # If not 200, skip this iteration\n",
    "        if response.status_code != 200:\n",
    "            print(f\"Request failed with status {response.status_code}. Skipping year {year}.\")\n",
    "            continue\n",
    "\n",
    "        # Parse the HTML\n",
    "        soup = BeautifulSoup(response.text, 'html.parser')\n",
    "\n",
    "        # Find the table(s)\n",
    "        tables = soup.select('table.stats_table')\n",
    "        if not tables:\n",
    "            print(\"No standings table found! Skipping...\")\n",
    "            continue\n",
    "\n",
    "        # Now it's safe to index [0]\n",
    "        standings_table = tables[0]\n",
    "\n",
    "        # -----------------------------------------\n",
    "        # Process the standings table...\n",
    "        # -----------------------------------------\n",
    "\n",
    "        # Wait randomly between 10 and 20 seconds\n",
    "        time.sleep(random.randint(10, 20))\n",
    "\n",
    "        # Collect teams from the table\n",
    "        links = [l.get(\"href\") for l in standings_table.find_all('a')]\n",
    "        links = [l for l in links if '/squads/' in l]\n",
    "        team_urls = [f\"https://fbref.com{l}\" for l in links]\n",
    "\n",
    "        # Find the 'previous season' URL\n",
    "        # Make sure this link actually exists before accessing [0]\n",
    "        prev_season_links = soup.select(\"a.prev\")\n",
    "        if not prev_season_links:\n",
    "            print(\"No previous season link found. (Reached the earliest season?)\")\n",
    "            break\n",
    "\n",
    "        previous_season = prev_season_links[0].get(\"href\")\n",
    "        standings_url = f\"https://fbref.com{previous_season}\"\n",
    "\n",
    "        # For each team, grab the matches and shooting data\n",
    "        for team_url in team_urls:\n",
    "            team_name = team_url.split(\"/\")[-1].replace(\"-Stats\", \"\")\n",
    "            print(f\"  -> Fetching data for {team_name}...\")\n",
    "\n",
    "            # Request the team page\n",
    "            try:\n",
    "                data_response = requests.get(team_url, headers=headers)\n",
    "                if data_response.status_code != 200:\n",
    "                    print(f\"    Request failed for {team_name}: {data_response.status_code}\")\n",
    "                    continue\n",
    "\n",
    "                # Parse matches\n",
    "                matches = pd.read_html(data_response.text, match=\"Scores & Fixtures\")[0]\n",
    "\n",
    "                # Now parse shooting page\n",
    "                soup_team = BeautifulSoup(data_response.text, 'html.parser')\n",
    "                shooting_links = [l.get(\"href\") for l in soup_team.find_all('a') if l.get(\"href\")]\n",
    "                shooting_links = [l for l in shooting_links if 'all_comps/shooting/' in l]\n",
    "\n",
    "                if not shooting_links:\n",
    "                    print(f\"    No shooting link found for {team_name}. Skipping.\")\n",
    "                    continue\n",
    "\n",
    "                shooting_url = f\"https://fbref.com{shooting_links[0]}\"\n",
    "                shooting_response = requests.get(shooting_url, headers=headers)\n",
    "                if shooting_response.status_code != 200:\n",
    "                    print(f\"    Failed to get shooting data for {team_name}\")\n",
    "                    continue\n",
    "\n",
    "                # Parse shooting table\n",
    "                shooting = pd.read_html(shooting_response.text, match=\"Shooting\")[0]\n",
    "                # Drop the multi-level column if it exists\n",
    "                shooting.columns = shooting.columns.droplevel()\n",
    "\n",
    "                # Merge matches with shooting data on Date\n",
    "                try:\n",
    "                    team_data = matches.merge(\n",
    "                        shooting[[\"Date\", \"Sh\", \"SoT\", \"Dist\", \"FK\", \"PK\", \"PKatt\"]],\n",
    "                        on=\"Date\"\n",
    "                    )\n",
    "                except ValueError:\n",
    "                    print(f\"    Merge failed for {team_name} due to mismatched columns. Skipping.\")\n",
    "                    continue\n",
    "\n",
    "                # Filter to the competition you want\n",
    "                team_data = team_data[team_data[\"Comp\"] == \"Premier League\"]\n",
    "                team_data[\"Season\"] = year\n",
    "                team_data[\"Team\"] = team_name\n",
    "\n",
    "                # Append to your master list\n",
    "                all_matches.append(team_data)\n",
    "\n",
    "                # Random delay between each team\n",
    "                time.sleep(random.randint(10, 20))\n",
    "\n",
    "            except Exception as e:\n",
    "                print(f\"  -> An error occurred fetching data for {team_name}: {e}\")\n",
    "\n",
    "    except Exception as e:\n",
    "        print(f\"An error occurred: {e}\")\n",
    "        continue\n",
    "\n",
    "# After the loop, `all_matches` should contain all the data you collected.\n",
    "if all_matches:\n",
    "    final_df = pd.concat(all_matches, ignore_index=True)\n",
    "    print(\"Final data shape:\", final_df.shape)\n",
    "    # final_df.to_csv(\"premier_league_data.csv\", index=False)\n",
    "else:\n",
    "    print(\"No data collected.\")"
   ]
  }
 ],
 "metadata": {
  "kernelspec": {
   "display_name": "venv",
   "language": "python",
   "name": "python3"
  },
  "language_info": {
   "codemirror_mode": {
    "name": "ipython",
    "version": 3
   },
   "file_extension": ".py",
   "mimetype": "text/x-python",
   "name": "python",
   "nbconvert_exporter": "python",
   "pygments_lexer": "ipython3",
   "version": "3.12.5"
  }
 },
 "nbformat": 4,
 "nbformat_minor": 2
}
